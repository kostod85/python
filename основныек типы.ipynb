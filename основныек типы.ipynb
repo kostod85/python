{
 "cells": [
  {
   "cell_type": "markdown",
   "metadata": {},
   "source": [
    "# Main types\n",
    "   ![main types](./images/python-base-types.png)"
   ]
  },
  {
   "cell_type": "markdown",
   "metadata": {},
   "source": [
    "# All we are objects in Python\n",
    "\n",
    "\n",
    "Every object has:\n",
    " - identity\n",
    " - type\n",
    " - value\n",
    "\n",
    "**`is` compares ids**\n",
    "**an object’s ID is unchangeable**\n",
    "\n",
    "*CPython implementation detail: For CPython, id(x) is the memory address where x is stored.*\n",
    "\n",
    "type defines:\n",
    "\n",
    "- operations that the object supports\n",
    "- possible values for objects of that type\n",
    "**an object’s type is also unchangeable**"
   ]
  },
  {
   "cell_type": "code",
   "execution_count": null,
   "metadata": {},
   "outputs": [],
   "source": []
  }
 ],
 "metadata": {
  "kernelspec": {
   "display_name": "Python 3 (ipykernel)",
   "language": "python",
   "name": "python3"
  },
  "language_info": {
   "codemirror_mode": {
    "name": "ipython",
    "version": 3
   },
   "file_extension": ".py",
   "mimetype": "text/x-python",
   "name": "python",
   "nbconvert_exporter": "python",
   "pygments_lexer": "ipython3",
   "version": "3.10.4"
  }
 },
 "nbformat": 4,
 "nbformat_minor": 2
}
