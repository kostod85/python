{
 "cells": [
  {
   "cell_type": "markdown",
   "metadata": {},
   "source": [
    "# По умолчанию скрипт выполняется последовательно - строка за строкой.\n",
    "## Очень часто необходимо пропускать часть кода в зависимости от различных условий.\n"
   ]
  },
  {
   "cell_type": "markdown",
   "metadata": {},
   "source": [
    "![Road Sign](./direction-sign.jpg \"Куда дальше?\")"
   ]
  },
  {
   "cell_type": "markdown",
   "metadata": {},
   "source": [
    "# Что за условия и как они работают?"
   ]
  },
  {
   "cell_type": "markdown",
   "metadata": {},
   "source": [
    "## Операторы сравнения"
   ]
  },
  {
   "cell_type": "markdown",
   "metadata": {},
   "source": [
    "| Оператор | Значение|\n",
    "|----|----|\n",
    "| a == b | равно |\n",
    "| a > b | больше |\n",
    "| a < b | меньше |\n",
    "| a <= b | меньше или равно |\n",
    "| a >= b | больше или равно |\n",
    "| a or b | или |\n",
    "| a and b | и |\n",
    "| a in b | включает |\n",
    "| not | не |\n",
    "| is | является |"
   ]
  },
  {
   "cell_type": "code",
   "execution_count": 2,
   "metadata": {},
   "outputs": [],
   "source": [
    "a = True"
   ]
  },
  {
   "cell_type": "code",
   "execution_count": 3,
   "metadata": {},
   "outputs": [
    {
     "data": {
      "text/plain": [
       "bool"
      ]
     },
     "execution_count": 3,
     "metadata": {},
     "output_type": "execute_result"
    }
   ],
   "source": [
    "type(True)"
   ]
  },
  {
   "cell_type": "code",
   "execution_count": 4,
   "metadata": {},
   "outputs": [
    {
     "data": {
      "text/plain": [
       "True"
      ]
     },
     "execution_count": 4,
     "metadata": {},
     "output_type": "execute_result"
    }
   ],
   "source": [
    "True == True"
   ]
  },
  {
   "cell_type": "code",
   "execution_count": 5,
   "metadata": {},
   "outputs": [
    {
     "data": {
      "text/plain": [
       "bool"
      ]
     },
     "execution_count": 5,
     "metadata": {},
     "output_type": "execute_result"
    }
   ],
   "source": [
    "type(a)"
   ]
  },
  {
   "cell_type": "code",
   "execution_count": 6,
   "metadata": {},
   "outputs": [
    {
     "data": {
      "text/plain": [
       "True"
      ]
     },
     "execution_count": 6,
     "metadata": {},
     "output_type": "execute_result"
    }
   ],
   "source": [
    "a = 5\n",
    "b = 5\n",
    "a == b"
   ]
  },
  {
   "cell_type": "code",
   "execution_count": 7,
   "metadata": {},
   "outputs": [
    {
     "data": {
      "text/plain": [
       "True"
      ]
     },
     "execution_count": 7,
     "metadata": {},
     "output_type": "execute_result"
    }
   ],
   "source": [
    "b = 3\n",
    "a > b"
   ]
  },
  {
   "cell_type": "code",
   "execution_count": null,
   "metadata": {},
   "outputs": [],
   "source": [
    "a < b"
   ]
  },
  {
   "cell_type": "code",
   "execution_count": null,
   "metadata": {},
   "outputs": [],
   "source": [
    "a = True\n",
    "b = False\n",
    "False or False"
   ]
  },
  {
   "cell_type": "code",
   "execution_count": null,
   "metadata": {},
   "outputs": [],
   "source": [
    "b\n",
    "\n"
   ]
  },
  {
   "cell_type": "code",
   "execution_count": null,
   "metadata": {},
   "outputs": [],
   "source": [
    "a and b"
   ]
  },
  {
   "cell_type": "code",
   "execution_count": null,
   "metadata": {},
   "outputs": [],
   "source": [
    "a = 'dd'\n",
    "b = 'feewddd'\n",
    "a not in b"
   ]
  },
  {
   "cell_type": "markdown",
   "metadata": {},
   "source": [
    "# Приведение типов в bool "
   ]
  },
  {
   "cell_type": "code",
   "execution_count": 8,
   "metadata": {
    "scrolled": true
   },
   "outputs": [
    {
     "data": {
      "text/plain": [
       "True"
      ]
     },
     "execution_count": 8,
     "metadata": {},
     "output_type": "execute_result"
    }
   ],
   "source": [
    "bool('d') # Буква/строка"
   ]
  },
  {
   "cell_type": "code",
   "execution_count": 9,
   "metadata": {},
   "outputs": [
    {
     "data": {
      "text/plain": [
       "True"
      ]
     },
     "execution_count": 9,
     "metadata": {},
     "output_type": "execute_result"
    }
   ],
   "source": [
    "bool('1') # Строка"
   ]
  },
  {
   "cell_type": "code",
   "execution_count": 10,
   "metadata": {},
   "outputs": [
    {
     "data": {
      "text/plain": [
       "True"
      ]
     },
     "execution_count": 10,
     "metadata": {},
     "output_type": "execute_result"
    }
   ],
   "source": [
    "bool(1) # Integer not 0"
   ]
  },
  {
   "cell_type": "code",
   "execution_count": 11,
   "metadata": {},
   "outputs": [
    {
     "data": {
      "text/plain": [
       "False"
      ]
     },
     "execution_count": 11,
     "metadata": {},
     "output_type": "execute_result"
    }
   ],
   "source": [
    "bool(0) # Zero False -> 0 -> 0 напряжение"
   ]
  },
  {
   "cell_type": "code",
   "execution_count": 12,
   "metadata": {},
   "outputs": [
    {
     "data": {
      "text/plain": [
       "False"
      ]
     },
     "execution_count": 12,
     "metadata": {},
     "output_type": "execute_result"
    }
   ],
   "source": [
    "bool('') # Empty string"
   ]
  },
  {
   "cell_type": "code",
   "execution_count": 13,
   "metadata": {},
   "outputs": [
    {
     "data": {
      "text/plain": [
       "True"
      ]
     },
     "execution_count": 13,
     "metadata": {},
     "output_type": "execute_result"
    }
   ],
   "source": [
    "bool(' ') # Space string"
   ]
  },
  {
   "cell_type": "code",
   "execution_count": 14,
   "metadata": {},
   "outputs": [
    {
     "data": {
      "text/plain": [
       "True"
      ]
     },
     "execution_count": 14,
     "metadata": {},
     "output_type": "execute_result"
    }
   ],
   "source": [
    "bool({'key': 'value'}) # Dictionary"
   ]
  },
  {
   "cell_type": "code",
   "execution_count": 15,
   "metadata": {},
   "outputs": [
    {
     "data": {
      "text/plain": [
       "False"
      ]
     },
     "execution_count": 15,
     "metadata": {},
     "output_type": "execute_result"
    }
   ],
   "source": [
    "bool({}) # Empty dictionary"
   ]
  },
  {
   "cell_type": "code",
   "execution_count": 16,
   "metadata": {},
   "outputs": [
    {
     "data": {
      "text/plain": [
       "False"
      ]
     },
     "execution_count": 16,
     "metadata": {},
     "output_type": "execute_result"
    }
   ],
   "source": [
    "bool(None)"
   ]
  },
  {
   "cell_type": "code",
   "execution_count": null,
   "metadata": {},
   "outputs": [],
   "source": [
    "toggler = False"
   ]
  },
  {
   "cell_type": "code",
   "execution_count": 1,
   "metadata": {},
   "outputs": [
    {
     "ename": "NameError",
     "evalue": "name 'toggler' is not defined",
     "output_type": "error",
     "traceback": [
      "\u001b[1;31m---------------------------------------------------------------------------\u001b[0m",
      "\u001b[1;31mNameError\u001b[0m                                 Traceback (most recent call last)",
      "Input \u001b[1;32mIn [1]\u001b[0m, in \u001b[0;36m<cell line: 2>\u001b[1;34m()\u001b[0m\n\u001b[0;32m      1\u001b[0m \u001b[38;5;66;03m# cicle \u001b[39;00m\n\u001b[1;32m----> 2\u001b[0m toggler \u001b[38;5;241m=\u001b[39m \u001b[38;5;129;01mnot\u001b[39;00m \u001b[43mtoggler\u001b[49m\n\u001b[0;32m      3\u001b[0m \u001b[38;5;28mprint\u001b[39m(toggler)\n",
      "\u001b[1;31mNameError\u001b[0m: name 'toggler' is not defined"
     ]
    }
   ],
   "source": [
    "# cicle \n",
    "toggler = not toggler\n",
    "print(toggler)"
   ]
  },
  {
   "cell_type": "code",
   "execution_count": null,
   "metadata": {},
   "outputs": [],
   "source": [
    "a = 7"
   ]
  },
  {
   "cell_type": "markdown",
   "metadata": {},
   "source": [
    "### Несколько условий"
   ]
  },
  {
   "cell_type": "code",
   "execution_count": null,
   "metadata": {},
   "outputs": [],
   "source": [
    "a and b \n",
    "a or b "
   ]
  },
  {
   "cell_type": "code",
   "execution_count": null,
   "metadata": {},
   "outputs": [],
   "source": [
    "2 > 3 and 100 == 100 and 1 > 0 and a == 7 # Оба условия должны быть True"
   ]
  },
  {
   "cell_type": "code",
   "execution_count": null,
   "metadata": {},
   "outputs": [],
   "source": [
    "5 < 3 or 100 == 100 # Хотя бы одно условие должно быть True"
   ]
  },
  {
   "cell_type": "markdown",
   "metadata": {},
   "source": [
    "# Сомневаетесь? Ставьте скобки!"
   ]
  },
  {
   "cell_type": "markdown",
   "metadata": {},
   "source": [
    "## Expressions are lazy"
   ]
  },
  {
   "cell_type": "code",
   "execution_count": 2,
   "metadata": {},
   "outputs": [
    {
     "name": "stdout",
     "output_type": "stream",
     "text": [
      "Type something: \n",
      "U must type something\n"
     ]
    }
   ],
   "source": [
    "ui = input(\"Type something: \")\n",
    "a = ui or \"U must type something\"\n",
    "print(a)"
   ]
  },
  {
   "cell_type": "code",
   "execution_count": 3,
   "metadata": {},
   "outputs": [
    {
     "data": {
      "text/plain": [
       "7"
      ]
     },
     "execution_count": 3,
     "metadata": {},
     "output_type": "execute_result"
    }
   ],
   "source": [
    "a = 0 or '' or 7 or 6 or False\n",
    "a"
   ]
  },
  {
   "cell_type": "code",
   "execution_count": null,
   "metadata": {},
   "outputs": [],
   "source": [
    "i = input()\n",
    "result = i or \"Nothing has been entered\""
   ]
  },
  {
   "cell_type": "code",
   "execution_count": null,
   "metadata": {},
   "outputs": [],
   "source": [
    "result"
   ]
  },
  {
   "cell_type": "code",
   "execution_count": 5,
   "metadata": {},
   "outputs": [
    {
     "data": {
      "text/plain": [
       "'All the data was provided'"
      ]
     },
     "execution_count": 5,
     "metadata": {},
     "output_type": "execute_result"
    }
   ],
   "source": [
    "1 and 1 and 1 and 1 and \"All the data was provided\""
   ]
  },
  {
   "cell_type": "code",
   "execution_count": null,
   "metadata": {},
   "outputs": [],
   "source": [
    "7 and 5"
   ]
  },
  {
   "cell_type": "code",
   "execution_count": null,
   "metadata": {},
   "outputs": [],
   "source": [
    "0 and 3"
   ]
  },
  {
   "cell_type": "code",
   "execution_count": null,
   "metadata": {},
   "outputs": [],
   "source": [
    "7 and 0"
   ]
  },
  {
   "cell_type": "markdown",
   "metadata": {},
   "source": [
    "### Блок кода\n",
    "\n",
    "```python\n",
    "if (a == b): # инициализация (объявление) блока кода\n",
    "    a += 1 # тело блока\n",
    "    b -= 1\n",
    "    print(f'{a} + {b} = {a + b}')\n",
    "print(\"hello!!\") # тут блок кода закончился и продолжилось \"нормальное\" выполнение программы\n",
    "```"
   ]
  },
  {
   "cell_type": "markdown",
   "metadata": {},
   "source": [
    "# Блок внутри блока (внутри блока, внутри блока)? Легко!\n",
    "\n",
    "***Питонист измеряет вложенность кода**\n",
    "\n",
    "![Nesting](./nesting.jpg \"Питонист измеряет вложенность кода\")"
   ]
  },
  {
   "cell_type": "markdown",
   "metadata": {},
   "source": [
    "# Ветвление"
   ]
  },
  {
   "cell_type": "markdown",
   "metadata": {},
   "source": [
    "## Условный оператор (if else)"
   ]
  },
  {
   "cell_type": "code",
   "execution_count": 7,
   "metadata": {},
   "outputs": [
    {
     "name": "stdout",
     "output_type": "stream",
     "text": [
      "Введите число х: 150\n",
      "x > 100 or equal 100\n",
      "ERREERERRFWEFWERWER\n"
     ]
    }
   ],
   "source": [
    "x = int(input('Введите число х: '))\n",
    "if x < 100: # проверка условия\n",
    "    # выполнится если выражение(x < 100) True     \n",
    "    print('x < 100')\n",
    "else:\n",
    "    # выполнится если выражение(x < 100) False\n",
    "    print('x > 100 or equal 100')\n",
    "# выполнится в любом случае ( не входит у кострукцию условного оператора)\n",
    "print('ERREERERRFWEFWERWER')"
   ]
  },
  {
   "cell_type": "code",
   "execution_count": 8,
   "metadata": {},
   "outputs": [
    {
     "name": "stdout",
     "output_type": "stream",
     "text": [
      "fgff\n"
     ]
    }
   ],
   "source": [
    "if 1 < 100: print('fgff')"
   ]
  },
  {
   "cell_type": "code",
   "execution_count": null,
   "metadata": {},
   "outputs": [],
   "source": [
    "x = int(input('Введите число х: '))\n",
    "if x < 50: # проверка условия\n",
    "    # выполнится если выражение(x < 50) True     \n",
    "    print('x < 50')\n",
    "elif x < 80:\n",
    "    # выполнится если выражение(x < 80) False\n",
    "    print('x less than 80 and greater or equal than 50 ')\n",
    "elif x < 70:\n",
    "    # выполнится если выражение(x < 80) False\n",
    "    print('70 fjfjfj')\n",
    "# выполнится в любом случае ( не входит у кострукцию условного оператора)\n",
    "else:\n",
    "    print('greater or equal than 80 ')\n",
    "\n",
    "    \n",
    "print('The game is stopped')\n",
    "\n",
    "\n"
   ]
  },
  {
   "cell_type": "markdown",
   "metadata": {},
   "source": [
    "### А что если необходимо каждое условие проверить?"
   ]
  },
  {
   "cell_type": "code",
   "execution_count": null,
   "metadata": {},
   "outputs": [],
   "source": [
    "if True:\n",
    "    pass\n",
    "if True:\n",
    "    pass\n",
    "if True:\n",
    "    pass"
   ]
  },
  {
   "cell_type": "markdown",
   "metadata": {},
   "source": [
    "### Вложенные условия"
   ]
  },
  {
   "cell_type": "code",
   "execution_count": null,
   "metadata": {},
   "outputs": [],
   "source": [
    "x = int(input('Введите число х от 1 до 10: '))\n",
    "if x > 5:\n",
    "    if x > 8:\n",
    "        if x == 9:\n",
    "            print('x = 9')\n",
    "        else:\n",
    "            print('x = 10')\n",
    "    else:\n",
    "        if x == 6:\n",
    "            print('x = 6')\n",
    "        elif x == 7:\n",
    "            print('x = 7')\n",
    "        else:\n",
    "            print('x = 8')\n",
    "else:\n",
    "    if x < 3:\n",
    "        if x == 1:\n",
    "            print('x = 1')\n",
    "        else:\n",
    "            print('x = 2')\n",
    "    else:\n",
    "        if x == 3:\n",
    "            print('x = 3')\n",
    "        elif x == 4:\n",
    "            print('x = 4')\n",
    "        else:\n",
    "            print('x = 5')       "
   ]
  },
  {
   "cell_type": "markdown",
   "metadata": {},
   "source": [
    "### Case аналог?  Да!\n"
   ]
  },
  {
   "cell_type": "code",
   "execution_count": null,
   "metadata": {},
   "outputs": [],
   "source": [
    "a = {1: 'ssss', 2:'ss'}\n",
    "a.get(1, 'такого значения нет')\n",
    "a.get(3, 'такого значения нет')\n"
   ]
  },
  {
   "cell_type": "markdown",
   "metadata": {},
   "source": [
    "## Match and case"
   ]
  },
  {
   "cell_type": "code",
   "execution_count": 11,
   "metadata": {},
   "outputs": [
    {
     "name": "stdout",
     "output_type": "stream",
     "text": [
      "comment: 418\n",
      "I'm a teapot\n",
      "from dict I'm a teapot\n"
     ]
    }
   ],
   "source": [
    "status = int(input(\"comment: \"))\n",
    "match status:\n",
    "    case 400:\n",
    "        a = \"Bad request\"\n",
    "    case 404:\n",
    "        a = \"Not found\"\n",
    "    case 418:\n",
    "        a = \"I'm a teapot\"\n",
    "    case _:\n",
    "        a = \"Something's wrong with the internet\"\n",
    "print(a)\n",
    "kase = {400: \"Bad request\", 404: \"Not found\", 418: \"I'm a teapot\"}\n",
    "print(\"from dict\", kase.get(status, \"Something's wrong with the internet\"))"
   ]
  },
  {
   "cell_type": "code",
   "execution_count": null,
   "metadata": {},
   "outputs": [],
   "source": [
    "a = input()\n",
    "print(a)"
   ]
  },
  {
   "cell_type": "markdown",
   "metadata": {},
   "source": [
    "### Conditional Expressions"
   ]
  },
  {
   "cell_type": "code",
   "execution_count": 12,
   "metadata": {},
   "outputs": [
    {
     "name": "stdout",
     "output_type": "stream",
     "text": [
      "Необходимо подождать\n"
     ]
    }
   ],
   "source": [
    "the_light = 'red'\n",
    "print('Можно ехать' if the_light == 'green' else 'Необходимо подождать')"
   ]
  },
  {
   "cell_type": "markdown",
   "metadata": {},
   "source": [
    "# Практика #\n",
    "## Запросить у пользователя 3 значения (вводит число Int) ##\n",
    "\n",
    "### Действия ###\n",
    "1. Если нет ни одого нуля - вывести: \"Нет нулевых значений!!!\"(Без if - использовать лень)\n",
    "2. Вывести первое ненулевое значение. Если введены все нули - вывести \"Введены все нули!\" (цикл не использовать) без if - использовать лень\n",
    "1. Если первое значение  больше чем сумма второго и третьего вывести a - b - c\n",
    "1. Если первое значение меньше чем сумма второго и третьего вывести b + c - a\n",
    "1. Если первое значение больше 50 и при этом одно из оставшихся значение больше первого вывести \"Вася\"\n",
    "1. Если первое значение больше 5 или оба из оставшихся значений равны 7 вывести \"Петя\""
   ]
  },
  {
   "cell_type": "markdown",
   "metadata": {},
   "source": [
    "Доделать BMI:\n",
    "Дозапросить пол и возраст\n",
    "Выдавать рекомендации\n",
    "10 градаций:\n",
    "2 пола и по 3 рекомендаци для каждого + возраст"
   ]
  },
  {
   "cell_type": "code",
   "execution_count": null,
   "metadata": {},
   "outputs": [],
   "source": []
  },
  {
   "cell_type": "code",
   "execution_count": null,
   "metadata": {},
   "outputs": [],
   "source": []
  },
  {
   "cell_type": "code",
   "execution_count": null,
   "metadata": {},
   "outputs": [],
   "source": []
  },
  {
   "cell_type": "code",
   "execution_count": null,
   "metadata": {},
   "outputs": [],
   "source": []
  },
  {
   "cell_type": "code",
   "execution_count": null,
   "metadata": {},
   "outputs": [],
   "source": []
  },
  {
   "cell_type": "code",
   "execution_count": null,
   "metadata": {},
   "outputs": [],
   "source": []
  },
  {
   "cell_type": "code",
   "execution_count": null,
   "metadata": {},
   "outputs": [],
   "source": []
  },
  {
   "cell_type": "code",
   "execution_count": null,
   "metadata": {},
   "outputs": [],
   "source": []
  },
  {
   "cell_type": "code",
   "execution_count": null,
   "metadata": {},
   "outputs": [],
   "source": []
  },
  {
   "cell_type": "code",
   "execution_count": null,
   "metadata": {},
   "outputs": [],
   "source": []
  },
  {
   "cell_type": "code",
   "execution_count": null,
   "metadata": {},
   "outputs": [],
   "source": []
  },
  {
   "cell_type": "code",
   "execution_count": null,
   "metadata": {},
   "outputs": [],
   "source": []
  },
  {
   "cell_type": "code",
   "execution_count": null,
   "metadata": {},
   "outputs": [],
   "source": []
  }
 ],
 "metadata": {
  "kernelspec": {
   "display_name": "Python 3 (ipykernel)",
   "language": "python",
   "name": "python3"
  },
  "language_info": {
   "codemirror_mode": {
    "name": "ipython",
    "version": 3
   },
   "file_extension": ".py",
   "mimetype": "text/x-python",
   "name": "python",
   "nbconvert_exporter": "python",
   "pygments_lexer": "ipython3",
   "version": "3.10.4"
  }
 },
 "nbformat": 4,
 "nbformat_minor": 4
}
