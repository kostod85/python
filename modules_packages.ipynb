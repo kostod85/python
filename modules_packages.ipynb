{
 "cells": [
  {
   "cell_type": "markdown",
   "metadata": {},
   "source": [
    "Modular programming refers to the process of breaking a large, unwieldy programming task into separate, smaller, more manageable subtasks or modules\n",
    "\n",
    "# Why?\n",
    "1. Простота\n",
    "1. Легкость поддержки\n",
    "1. Переиспользование\n",
    "1. Ограниченность видимости (Scope)\n",
    "\n",
    "# How?\n",
    "1. На Python \n",
    "1. На C\n",
    "1. Встроенные в интерпретатор"
   ]
  },
  {
   "cell_type": "code",
   "execution_count": null,
   "metadata": {},
   "outputs": [],
   "source": [
    "# my_mod.py\n",
    "\n",
    "MY_CONST = 123\n",
    "my_string = '123'\n",
    "my_dict = {'a_key': 'the value'}\n",
    "def my_func():\n",
    "    print('What was printed from my func')\n",
    "\n",
    "class MyClass:\n",
    "    my_property = 'my property'\n",
    "    \n",
    "    def my_method(self, inp):\n",
    "        print(self.my_property + ' ' + inp)\n",
    "# import my_mod"
   ]
  },
  {
   "cell_type": "markdown",
   "metadata": {},
   "source": [
    "# Module search\n",
    "\n",
    "1. Папка с самим скриптом\n",
    "1. Переменная **PYTHONPATH**\n",
    "1. Список папок, указанных при установке **python**"
   ]
  },
  {
   "cell_type": "code",
   "execution_count": 1,
   "metadata": {},
   "outputs": [
    {
     "data": {
      "text/plain": [
       "['/home/python/projects/python_course/07_date_time_modules',\n",
       " '/usr/lib/python310.zip',\n",
       " '/usr/lib/python3.10',\n",
       " '/usr/lib/python3.10/lib-dynload',\n",
       " '',\n",
       " '/home/python/projects/python_course/01_intro/env/lib/python3.10/site-packages']"
      ]
     },
     "execution_count": 1,
     "metadata": {},
     "output_type": "execute_result"
    }
   ],
   "source": [
    "import sys\n",
    "sys.path"
   ]
  },
  {
   "cell_type": "markdown",
   "metadata": {},
   "source": [
    "## Чтобы модуль нашелся\n",
    "\n",
    "1. Положить его рядом со скриптом\n",
    "1. Положить в папку из sys.path\n",
    "1. Добавить папку в sys.path"
   ]
  },
  {
   "cell_type": "code",
   "execution_count": null,
   "metadata": {},
   "outputs": [],
   "source": [
    "# sys.path.append(r'C:\\the_path')"
   ]
  },
  {
   "cell_type": "markdown",
   "metadata": {},
   "source": [
    "## Где модуль расположен?"
   ]
  },
  {
   "cell_type": "code",
   "execution_count": 2,
   "metadata": {},
   "outputs": [],
   "source": [
    "import calendar"
   ]
  },
  {
   "cell_type": "code",
   "execution_count": 3,
   "metadata": {},
   "outputs": [
    {
     "data": {
      "text/plain": [
       "'/usr/lib/python3.10/calendar.py'"
      ]
     },
     "execution_count": 3,
     "metadata": {},
     "output_type": "execute_result"
    }
   ],
   "source": [
    "calendar.__file__"
   ]
  },
  {
   "cell_type": "markdown",
   "metadata": {},
   "source": [
    "# Как (еще) можно импортировать модуль?"
   ]
  },
  {
   "cell_type": "markdown",
   "metadata": {},
   "source": [
    "```python\n",
    "import <module_name> # не делает элементы доступными, создает namespase\n",
    "# Доступ через \"dot notation\" module.element\n",
    "```"
   ]
  },
  {
   "cell_type": "markdown",
   "metadata": {},
   "source": [
    "```python\n",
    "from <module_name> import <name(s)> # делает елементы доступными\n",
    "```"
   ]
  },
  {
   "cell_type": "markdown",
   "metadata": {},
   "source": [
    "```python\n",
    "from <module_name> import * # делает елементы доступными (все)\n",
    "```"
   ]
  },
  {
   "cell_type": "markdown",
   "metadata": {},
   "source": [
    "```python\n",
    "from <module_name> import <name> as <alias> # делает елемент доступным в новом namespace\n",
    "```"
   ]
  },
  {
   "cell_type": "code",
   "execution_count": null,
   "metadata": {},
   "outputs": [],
   "source": [
    "# наш любимый dir()\n",
    "from panda import panda as pd"
   ]
  },
  {
   "cell_type": "markdown",
   "metadata": {},
   "source": [
    "# Модуль можно запустить (это скрипт)"
   ]
  },
  {
   "cell_type": "markdown",
   "metadata": {},
   "source": [
    "```python\n",
    "# add some prints to my_mod.py\n",
    "\n",
    "MY_CONST = 123\n",
    "my_string = '123'\n",
    "my_dict = {'a_key': 'the value'}\n",
    "def my_func():\n",
    "    print('What was printed from my func')\n",
    "print(\"This is my module\")\n",
    "class MyClass:\n",
    "    my_property = 'my property'\n",
    "    \n",
    "    def my_method(self, inp):\n",
    "        print(self.my_property + ' ' + inp)\n",
    "# import my_mod\n",
    "```"
   ]
  },
  {
   "cell_type": "code",
   "execution_count": null,
   "metadata": {},
   "outputs": [],
   "source": [
    "# we need __main__"
   ]
  },
  {
   "cell_type": "markdown",
   "metadata": {},
   "source": [
    "# Packages\n",
    "\n",
    "Packages allow a hierarchical structuring of the module namespace using dot notation. \n",
    "\n",
    "```\n",
    " Pkg\\\n",
    "   -Module1\n",
    "   -Module2\n",
    "```"
   ]
  },
  {
   "cell_type": "markdown",
   "metadata": {},
   "source": [
    "Можно импортировать пакет но...\n",
    "```\n",
    "    __init__.py - инициализация пакета\n",
    "    __all__ - кого(что) можно импортировать из модуля?\n",
    "```"
   ]
  },
  {
   "cell_type": "markdown",
   "metadata": {},
   "source": [
    "# Пакетный менеджер pip\n",
    "\n",
    "```sh\n",
    "pip install some-packet\n",
    "pip install -U some-packet # install or update\n",
    "pip uninstall some-packet\n",
    "pip freeze # the list of installed modules\n",
    "pip freeze > requirements.txt # save the list to the file\n",
    "pip install -r requirements.txt # install all the modules from the file\n",
    "```\n",
    "https://www.lfd.uci.edu/~gohlke/pythonlibs/\n",
    "# Виртуальное окружение\n",
    "\n",
    "**Для изоляции зависимостей(модулей) одного проекта от другого**\n",
    "\n",
    "```sh\n",
    "python -m venv envname # создать вирт окружение в локальной папке\n",
    "source ./envname/bin/activate # активировать окружение (linux/mac)\n",
    ".\\envname\\Scripts\\activate # активировать окружение (Windows)\n",
    "deactivate # деактивировать окружение\n",
    "```\n",
    "\n",
    "*Активированное окружение выглядит так:*\n",
    "\n",
    "\n",
    "**(envname)** dennis@dennis-laptop:~/projects/itacademy/python-web-dev/1_python$\n"
   ]
  },
  {
   "cell_type": "code",
   "execution_count": null,
   "metadata": {},
   "outputs": [],
   "source": []
  }
 ],
 "metadata": {
  "kernelspec": {
   "display_name": "Python 3 (ipykernel)",
   "language": "python",
   "name": "python3"
  },
  "language_info": {
   "codemirror_mode": {
    "name": "ipython",
    "version": 3
   },
   "file_extension": ".py",
   "mimetype": "text/x-python",
   "name": "python",
   "nbconvert_exporter": "python",
   "pygments_lexer": "ipython3",
   "version": "3.10.4"
  }
 },
 "nbformat": 4,
 "nbformat_minor": 4
}
